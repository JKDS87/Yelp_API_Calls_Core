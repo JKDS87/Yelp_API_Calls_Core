{
 "cells": [
  {
   "cell_type": "markdown",
   "id": "7291f877-c3c2-47a2-b683-e661cf7dfa5d",
   "metadata": {},
   "source": [
    "# Efficient Yelp API Calls - Core Assignment\n",
    "\n",
    "**Student:** Matthew Malueg"
   ]
  },
  {
   "cell_type": "markdown",
   "id": "49fac3de-3e90-4514-a24e-c22745b2fa6a",
   "metadata": {
    "jp-MarkdownHeadingCollapsed": true
   },
   "source": [
    "# Imports and Loading"
   ]
  },
  {
   "cell_type": "markdown",
   "id": "25c8134d-2f64-4189-b32d-9775598b6286",
   "metadata": {},
   "source": [
    "**Imports**"
   ]
  },
  {
   "cell_type": "code",
   "execution_count": 4,
   "id": "65c102cd-41a2-401a-ad4a-560802bc70f7",
   "metadata": {},
   "outputs": [],
   "source": [
    "# Standard imports\n",
    "import numpy as np\n",
    "import pandas as pd\n",
    "import matplotlib.pyplot as plt\n",
    "import seaborn as sns\n",
    "# Additional imports\n",
    "import os, json, math, time\n",
    "from yelpapi import YelpAPI\n",
    "from tqdm.notebook import tqdm_notebook"
   ]
  },
  {
   "cell_type": "markdown",
   "id": "04e72ba7-a23c-4987-a788-3fa4e9f2247d",
   "metadata": {},
   "source": [
    "**API access**"
   ]
  },
  {
   "cell_type": "code",
   "execution_count": 2,
   "id": "10e8ce96-4c37-4377-8708-42564f9e2622",
   "metadata": {},
   "outputs": [],
   "source": [
    "# Load API credentials\n",
    "with open('/Users/Malue/.secret/yelp_api.json') as f:\n",
    "    login = json.load(f)\n",
    "# Instantiate YelpAPI Variable\n",
    "yelp_api = YelpAPI(login['api-key'], timeout_s=5.0)"
   ]
  },
  {
   "cell_type": "markdown",
   "id": "57dfa83e-326a-4d3c-a764-dbdad219bf56",
   "metadata": {},
   "source": [
    "**Custom functions**"
   ]
  },
  {
   "cell_type": "code",
   "execution_count": 3,
   "id": "9854efee-80fc-43e1-90ec-5f38c39f3ce7",
   "metadata": {},
   "outputs": [],
   "source": [
    "def create_json_file(JSON_FILE, delete_if_exists=False):\n",
    "\n",
    "    ## Check if JSON_FILE exists\n",
    "    file_exists = os.path.isfile(JSON_FILE)\n",
    "\n",
    "    # If file DOES exist:\n",
    "    if file_exists == True:\n",
    "\n",
    "        # Check if user wants to delete is exists\n",
    "        if delete_is_exists==True:\n",
    "\n",
    "            print(f'[!] {JSON_FILE} already exists. Deleting previous file...')\n",
    "            # Delete file and confirm it no longer exists\n",
    "            os.remove(JSON_FILE)\n",
    "            # recursive call to function after old file deleted\n",
    "            create_json_file(JSON_FILE, delete_if_exists=False)\n",
    "        else:\n",
    "            print(f'[i] {JSON_FILE} already exists.')\n",
    "\n",
    "    # If file does NOT exist:\n",
    "    else:\n",
    "\n",
    "        # Inform user and save empty list\n",
    "        print(f'[i] {JSON_FILE} not found. Saving empty list to new file.')\n",
    "\n",
    "        ## Create any needed folders\n",
    "        # Get folder name only\n",
    "        folder = os.path.dirname(JSON_FILE)\n",
    "\n",
    "        # If JSON_FILE included a folder\n",
    "        if len(folder)>0:\n",
    "            # Create the folder\n",
    "            os.makedirs(folder, exist_ok=True)\n",
    "        # Save empty list to start the json file\n",
    "        with open(JSON_FILE, 'w') as f:\n",
    "            json.dump([], f)"
   ]
  },
  {
   "cell_type": "markdown",
   "id": "316d6127-94f7-40ca-ac88-a2275b3b93e9",
   "metadata": {
    "jp-MarkdownHeadingCollapsed": true
   },
   "source": [
    "# Generating file and making the API call"
   ]
  },
  {
   "cell_type": "markdown",
   "id": "c815f3fe-78db-4afb-aeaa-c73fcf9bdeba",
   "metadata": {},
   "source": [
    "**Define file and key terms for API call**"
   ]
  },
  {
   "cell_type": "code",
   "execution_count": 5,
   "id": "61afea51-d1c4-4c45-9c1e-b14e4c791d5a",
   "metadata": {},
   "outputs": [],
   "source": [
    "# Specify JSON_FILE filename\n",
    "# Include search terms in the filename\n",
    "JSON_FILE = 'Data/results_in_progress_SA_sushi.json'\n",
    "\n",
    "# Set API call parameters\n",
    "LOCATION = 'San Antonio, TX'\n",
    "TERM = 'Sushi'"
   ]
  },
  {
   "cell_type": "markdown",
   "id": "b34eb1c4-3971-4b3c-8ff6-e17dac787887",
   "metadata": {},
   "source": [
    "**Create the initial empty file and determine preliminary information**"
   ]
  },
  {
   "cell_type": "code",
   "execution_count": 6,
   "id": "790ad210-9aa7-46c5-b795-7cfe4def80eb",
   "metadata": {},
   "outputs": [
    {
     "name": "stdout",
     "output_type": "stream",
     "text": [
      "[i] Data/results_in_progress_SA_sushi.json not found. Saving empty list to new file.\n",
      "- 0 previous results found.\n",
      "There were 284 total results found, including any duplicates.\n",
      "We would need 15 pages to display all results.\n"
     ]
    }
   ],
   "source": [
    "# Create a new empty json file (explicitly delete the previous if it exists)\n",
    "create_json_file(JSON_FILE, delete_if_exists=True)\n",
    "# Load previous results (should now be zero) and use len of results for offset\n",
    "with open(JSON_FILE, 'r') as f:\n",
    "    previous_results = json.load(f)\n",
    "\n",
    "# Set offset based on previous results\n",
    "n_results = len(previous_results) # Use this for the offset\n",
    "print(f'- {n_results} previous results found.')\n",
    "\n",
    "## Performing the API call\n",
    "# Use our yelp_api variable's search_query method to perform our API call\n",
    "results = yelp_api.search_query(location=LOCATION,\n",
    "                                term=TERM,\n",
    "                                offset=n_results)\n",
    "# How many results in total?\n",
    "total_results = results['total']\n",
    "print(f'There were {total_results} total results found, including any duplicates.') \n",
    "# There should be zero results at this point, as we have a fresh file.\n",
    "\n",
    "# How many results did we get details for in a single page?\n",
    "results_per_page = len(results['businesses'])\n",
    "# Use math.ceil to round up for the total required number of pages of results\n",
    "n_pages = math.ceil((results['total'] - n_results) / results_per_page)\n",
    "print(f'We would need {n_pages} pages to display all results.')"
   ]
  },
  {
   "cell_type": "markdown",
   "id": "82988685-66ca-4a21-82e9-cc87939ed528",
   "metadata": {},
   "source": [
    "**Populate the json file with additional pages of query results**"
   ]
  },
  {
   "cell_type": "code",
   "execution_count": 7,
   "id": "240e07b9-add7-4266-9402-c3a324190368",
   "metadata": {},
   "outputs": [
    {
     "data": {
      "application/vnd.jupyter.widget-view+json": {
       "model_id": "e30ea9ffd4344163912a1222fedb746b",
       "version_major": 2,
       "version_minor": 0
      },
      "text/plain": [
       "  0%|          | 0/15 [00:00<?, ?it/s]"
      ]
     },
     "metadata": {},
     "output_type": "display_data"
    }
   ],
   "source": [
    "for i in tqdm_notebook(range(1, n_pages+1)):\n",
    "\n",
    "    ## PROGRESS OF QUERY SO FAR\n",
    "    # Read in results in progess file and check length\n",
    "    with open(JSON_FILE, 'r') as f:\n",
    "        previous_results = json.load(f)\n",
    "    # Save number of results to use as offset\n",
    "    n_results = len(previous_results)\n",
    "    # Stop query if it would cause an error\n",
    "    if (n_results + results_per_page) > 1000:\n",
    "        print('Exceeded 1000 api calls. Stopping loop.')\n",
    "        break\n",
    "\n",
    "    ## ADDING TO FILE WITH NEXT PAGE OF QUERY RESULTS\n",
    "    # Use n_results as the offset\n",
    "    results = yelp_api.search_query(location=LOCATION,\n",
    "                                    term=TERM,\n",
    "                                    offset=n_results)\n",
    "    # Append new results and save to file\n",
    "    previous_results.extend(results['businesses'])\n",
    "    # Display previous_results\n",
    "    with open(JSON_FILE, 'w') as f:\n",
    "        json.dump(previous_results, f)\n",
    "\n",
    "    time.sleep(0.1)"
   ]
  },
  {
   "cell_type": "markdown",
   "id": "0ba8f1dd-a8a3-4bd3-9991-25b709f18312",
   "metadata": {},
   "source": [
    "# Final results"
   ]
  },
  {
   "cell_type": "markdown",
   "id": "58e832f3-51a6-4e7b-b34f-fb8d3ba9a1a5",
   "metadata": {},
   "source": [
    "**Examine final DataFrame**"
   ]
  },
  {
   "cell_type": "code",
   "execution_count": 10,
   "id": "7bf09197-6755-4520-b51e-d5858138eca3",
   "metadata": {},
   "outputs": [
    {
     "data": {
      "text/html": [
       "<div>\n",
       "<style scoped>\n",
       "    .dataframe tbody tr th:only-of-type {\n",
       "        vertical-align: middle;\n",
       "    }\n",
       "\n",
       "    .dataframe tbody tr th {\n",
       "        vertical-align: top;\n",
       "    }\n",
       "\n",
       "    .dataframe thead th {\n",
       "        text-align: right;\n",
       "    }\n",
       "</style>\n",
       "<table border=\"1\" class=\"dataframe\">\n",
       "  <thead>\n",
       "    <tr style=\"text-align: right;\">\n",
       "      <th></th>\n",
       "      <th>id</th>\n",
       "      <th>alias</th>\n",
       "      <th>name</th>\n",
       "      <th>image_url</th>\n",
       "      <th>is_closed</th>\n",
       "      <th>url</th>\n",
       "      <th>review_count</th>\n",
       "      <th>categories</th>\n",
       "      <th>rating</th>\n",
       "      <th>coordinates</th>\n",
       "      <th>transactions</th>\n",
       "      <th>price</th>\n",
       "      <th>location</th>\n",
       "      <th>phone</th>\n",
       "      <th>display_phone</th>\n",
       "      <th>distance</th>\n",
       "    </tr>\n",
       "  </thead>\n",
       "  <tbody>\n",
       "    <tr>\n",
       "      <th>0</th>\n",
       "      <td>8aUAFZSENBgdC17hPpKp5g</td>\n",
       "      <td>wild-goji-restaurant-and-bar-san-antonio-3</td>\n",
       "      <td>Wild Goji Restaurant &amp; Bar</td>\n",
       "      <td>https://s3-media1.fl.yelpcdn.com/bphoto/KApU2Q...</td>\n",
       "      <td>False</td>\n",
       "      <td>https://www.yelp.com/biz/wild-goji-restaurant-...</td>\n",
       "      <td>1195</td>\n",
       "      <td>[{'alias': 'asianfusion', 'title': 'Asian Fusi...</td>\n",
       "      <td>4.5</td>\n",
       "      <td>{'latitude': 29.52242, 'longitude': -98.50648}</td>\n",
       "      <td>[restaurant_reservation, delivery]</td>\n",
       "      <td>$$</td>\n",
       "      <td>{'address1': '7115 Blanco Rd', 'address2': 'St...</td>\n",
       "      <td>+12102770638</td>\n",
       "      <td>(210) 277-0638</td>\n",
       "      <td>3231.701220</td>\n",
       "    </tr>\n",
       "    <tr>\n",
       "      <th>1</th>\n",
       "      <td>l7tVQWHt14p6fcGdUvx3xw</td>\n",
       "      <td>shiro-japanese-sushi-bistro-san-antonio</td>\n",
       "      <td>Shiro Japanese Sushi Bistro</td>\n",
       "      <td>https://s3-media2.fl.yelpcdn.com/bphoto/dJmKJW...</td>\n",
       "      <td>False</td>\n",
       "      <td>https://www.yelp.com/biz/shiro-japanese-sushi-...</td>\n",
       "      <td>209</td>\n",
       "      <td>[{'alias': 'sushi', 'title': 'Sushi Bars'}, {'...</td>\n",
       "      <td>4.5</td>\n",
       "      <td>{'latitude': 29.4361425988757, 'longitude': -9...</td>\n",
       "      <td>[delivery]</td>\n",
       "      <td>$$$</td>\n",
       "      <td>{'address1': '107 W Jones Ave', 'address2': ''...</td>\n",
       "      <td></td>\n",
       "      <td></td>\n",
       "      <td>7240.257501</td>\n",
       "    </tr>\n",
       "  </tbody>\n",
       "</table>\n",
       "</div>"
      ],
      "text/plain": [
       "                       id                                       alias  \\\n",
       "0  8aUAFZSENBgdC17hPpKp5g  wild-goji-restaurant-and-bar-san-antonio-3   \n",
       "1  l7tVQWHt14p6fcGdUvx3xw     shiro-japanese-sushi-bistro-san-antonio   \n",
       "\n",
       "                          name  \\\n",
       "0   Wild Goji Restaurant & Bar   \n",
       "1  Shiro Japanese Sushi Bistro   \n",
       "\n",
       "                                           image_url  is_closed  \\\n",
       "0  https://s3-media1.fl.yelpcdn.com/bphoto/KApU2Q...      False   \n",
       "1  https://s3-media2.fl.yelpcdn.com/bphoto/dJmKJW...      False   \n",
       "\n",
       "                                                 url  review_count  \\\n",
       "0  https://www.yelp.com/biz/wild-goji-restaurant-...          1195   \n",
       "1  https://www.yelp.com/biz/shiro-japanese-sushi-...           209   \n",
       "\n",
       "                                          categories  rating  \\\n",
       "0  [{'alias': 'asianfusion', 'title': 'Asian Fusi...     4.5   \n",
       "1  [{'alias': 'sushi', 'title': 'Sushi Bars'}, {'...     4.5   \n",
       "\n",
       "                                         coordinates  \\\n",
       "0     {'latitude': 29.52242, 'longitude': -98.50648}   \n",
       "1  {'latitude': 29.4361425988757, 'longitude': -9...   \n",
       "\n",
       "                         transactions price  \\\n",
       "0  [restaurant_reservation, delivery]    $$   \n",
       "1                          [delivery]   $$$   \n",
       "\n",
       "                                            location         phone  \\\n",
       "0  {'address1': '7115 Blanco Rd', 'address2': 'St...  +12102770638   \n",
       "1  {'address1': '107 W Jones Ave', 'address2': ''...                 \n",
       "\n",
       "    display_phone     distance  \n",
       "0  (210) 277-0638  3231.701220  \n",
       "1                  7240.257501  "
      ]
     },
     "metadata": {},
     "output_type": "display_data"
    },
    {
     "data": {
      "text/html": [
       "<div>\n",
       "<style scoped>\n",
       "    .dataframe tbody tr th:only-of-type {\n",
       "        vertical-align: middle;\n",
       "    }\n",
       "\n",
       "    .dataframe tbody tr th {\n",
       "        vertical-align: top;\n",
       "    }\n",
       "\n",
       "    .dataframe thead th {\n",
       "        text-align: right;\n",
       "    }\n",
       "</style>\n",
       "<table border=\"1\" class=\"dataframe\">\n",
       "  <thead>\n",
       "    <tr style=\"text-align: right;\">\n",
       "      <th></th>\n",
       "      <th>id</th>\n",
       "      <th>alias</th>\n",
       "      <th>name</th>\n",
       "      <th>image_url</th>\n",
       "      <th>is_closed</th>\n",
       "      <th>url</th>\n",
       "      <th>review_count</th>\n",
       "      <th>categories</th>\n",
       "      <th>rating</th>\n",
       "      <th>coordinates</th>\n",
       "      <th>transactions</th>\n",
       "      <th>price</th>\n",
       "      <th>location</th>\n",
       "      <th>phone</th>\n",
       "      <th>display_phone</th>\n",
       "      <th>distance</th>\n",
       "    </tr>\n",
       "  </thead>\n",
       "  <tbody>\n",
       "    <tr>\n",
       "      <th>282</th>\n",
       "      <td>bcFjXrZZ_dbIoGZNVxmSXA</td>\n",
       "      <td>h-e-b-plus-san-antonio-14</td>\n",
       "      <td>H-E-B plus!</td>\n",
       "      <td>https://s3-media3.fl.yelpcdn.com/bphoto/1RW4hx...</td>\n",
       "      <td>False</td>\n",
       "      <td>https://www.yelp.com/biz/h-e-b-plus-san-antoni...</td>\n",
       "      <td>22</td>\n",
       "      <td>[{'alias': 'grocery', 'title': 'Grocery'}]</td>\n",
       "      <td>3.0</td>\n",
       "      <td>{'latitude': 29.379990584309308, 'longitude': ...</td>\n",
       "      <td>[]</td>\n",
       "      <td>$</td>\n",
       "      <td>{'address1': '4100 S New Braunfels Ave', 'addr...</td>\n",
       "      <td>+12105313100</td>\n",
       "      <td>(210) 531-3100</td>\n",
       "      <td>13846.739121</td>\n",
       "    </tr>\n",
       "    <tr>\n",
       "      <th>283</th>\n",
       "      <td>zGljSEDub70vPTe0D7JWxw</td>\n",
       "      <td>mia-marcos-pizza-selma</td>\n",
       "      <td>Mia Marco's Pizza</td>\n",
       "      <td>https://s3-media3.fl.yelpcdn.com/bphoto/Og1WQw...</td>\n",
       "      <td>False</td>\n",
       "      <td>https://www.yelp.com/biz/mia-marcos-pizza-selm...</td>\n",
       "      <td>193</td>\n",
       "      <td>[{'alias': 'foodtrucks', 'title': 'Food Trucks...</td>\n",
       "      <td>4.5</td>\n",
       "      <td>{'latitude': 29.584521, 'longitude': -98.306215}</td>\n",
       "      <td>[delivery]</td>\n",
       "      <td>$$</td>\n",
       "      <td>{'address1': '15939 IH 35 N', 'address2': '', ...</td>\n",
       "      <td>+12106678441</td>\n",
       "      <td>(210) 667-8441</td>\n",
       "      <td>22493.871237</td>\n",
       "    </tr>\n",
       "  </tbody>\n",
       "</table>\n",
       "</div>"
      ],
      "text/plain": [
       "                         id                      alias               name  \\\n",
       "282  bcFjXrZZ_dbIoGZNVxmSXA  h-e-b-plus-san-antonio-14        H-E-B plus!   \n",
       "283  zGljSEDub70vPTe0D7JWxw     mia-marcos-pizza-selma  Mia Marco's Pizza   \n",
       "\n",
       "                                             image_url  is_closed  \\\n",
       "282  https://s3-media3.fl.yelpcdn.com/bphoto/1RW4hx...      False   \n",
       "283  https://s3-media3.fl.yelpcdn.com/bphoto/Og1WQw...      False   \n",
       "\n",
       "                                                   url  review_count  \\\n",
       "282  https://www.yelp.com/biz/h-e-b-plus-san-antoni...            22   \n",
       "283  https://www.yelp.com/biz/mia-marcos-pizza-selm...           193   \n",
       "\n",
       "                                            categories  rating  \\\n",
       "282         [{'alias': 'grocery', 'title': 'Grocery'}]     3.0   \n",
       "283  [{'alias': 'foodtrucks', 'title': 'Food Trucks...     4.5   \n",
       "\n",
       "                                           coordinates transactions price  \\\n",
       "282  {'latitude': 29.379990584309308, 'longitude': ...           []     $   \n",
       "283   {'latitude': 29.584521, 'longitude': -98.306215}   [delivery]    $$   \n",
       "\n",
       "                                              location         phone  \\\n",
       "282  {'address1': '4100 S New Braunfels Ave', 'addr...  +12105313100   \n",
       "283  {'address1': '15939 IH 35 N', 'address2': '', ...  +12106678441   \n",
       "\n",
       "      display_phone      distance  \n",
       "282  (210) 531-3100  13846.739121  \n",
       "283  (210) 667-8441  22493.871237  "
      ]
     },
     "metadata": {},
     "output_type": "display_data"
    }
   ],
   "source": [
    "# Load in final results\n",
    "final_df = pd.read_json(JSON_FILE)\n",
    "display(final_df.head(2), final_df.tail(2))"
   ]
  },
  {
   "cell_type": "code",
   "execution_count": 11,
   "id": "fdcf3ea3-f8c9-47ca-83e7-257f7283d388",
   "metadata": {},
   "outputs": [
    {
     "data": {
      "text/plain": [
       "0"
      ]
     },
     "execution_count": 11,
     "metadata": {},
     "output_type": "execute_result"
    }
   ],
   "source": [
    "# Check for and remove any duplicates\n",
    "final_df.duplicated(subset='id').sum()"
   ]
  },
  {
   "cell_type": "markdown",
   "id": "37f4d7ed-6ee6-412c-a6d8-34652a8e1ae6",
   "metadata": {},
   "source": [
    "**Save to .csv**"
   ]
  },
  {
   "cell_type": "code",
   "execution_count": 12,
   "id": "d0237b1c-1e5a-4d81-9d6b-1f984097fd84",
   "metadata": {},
   "outputs": [],
   "source": [
    "# Save the final results to a compressed csv\n",
    "final_df.to_csv('Data/final_results_SA_sushi.csv.gz', compression='gzip', index=False)"
   ]
  }
 ],
 "metadata": {
  "kernelspec": {
   "display_name": "Python 3 (ipykernel)",
   "language": "python",
   "name": "python3"
  },
  "language_info": {
   "codemirror_mode": {
    "name": "ipython",
    "version": 3
   },
   "file_extension": ".py",
   "mimetype": "text/x-python",
   "name": "python",
   "nbconvert_exporter": "python",
   "pygments_lexer": "ipython3",
   "version": "3.10.10"
  },
  "widgets": {
   "application/vnd.jupyter.widget-state+json": {
    "state": {
     "0ba004aa500b433aa57fbe28bf21ff2f": {
      "model_module": "@jupyter-widgets/base",
      "model_module_version": "2.0.0",
      "model_name": "LayoutModel",
      "state": {}
     },
     "0e83ac30ff594c2a804463e1343f7020": {
      "model_module": "@jupyter-widgets/controls",
      "model_module_version": "2.0.0",
      "model_name": "HTMLStyleModel",
      "state": {
       "description_width": "",
       "font_size": null,
       "text_color": null
      }
     },
     "201e63108b1b45098102a5e1356bf22b": {
      "model_module": "@jupyter-widgets/controls",
      "model_module_version": "2.0.0",
      "model_name": "HTMLModel",
      "state": {
       "layout": "IPY_MODEL_0ba004aa500b433aa57fbe28bf21ff2f",
       "style": "IPY_MODEL_0e83ac30ff594c2a804463e1343f7020",
       "value": " 15/15 [00:13&lt;00:00,  1.03it/s]"
      }
     },
     "42e822593e0d44a4b3eb1fe672166e2c": {
      "model_module": "@jupyter-widgets/base",
      "model_module_version": "2.0.0",
      "model_name": "LayoutModel",
      "state": {}
     },
     "7091ff2412434181a927b6ffda42f114": {
      "model_module": "@jupyter-widgets/base",
      "model_module_version": "2.0.0",
      "model_name": "LayoutModel",
      "state": {}
     },
     "743afc96de4a47b69bbc444ffe0ec724": {
      "model_module": "@jupyter-widgets/controls",
      "model_module_version": "2.0.0",
      "model_name": "FloatProgressModel",
      "state": {
       "bar_style": "success",
       "layout": "IPY_MODEL_db111a6f2d444863b8ddda73840f61ac",
       "max": 15,
       "style": "IPY_MODEL_edbdf1568196404a8d7ace8fc2feb8bc",
       "value": 15
      }
     },
     "b16e27146ae84937813e1d96a2c31cf7": {
      "model_module": "@jupyter-widgets/controls",
      "model_module_version": "2.0.0",
      "model_name": "HTMLStyleModel",
      "state": {
       "description_width": "",
       "font_size": null,
       "text_color": null
      }
     },
     "db111a6f2d444863b8ddda73840f61ac": {
      "model_module": "@jupyter-widgets/base",
      "model_module_version": "2.0.0",
      "model_name": "LayoutModel",
      "state": {}
     },
     "e30ea9ffd4344163912a1222fedb746b": {
      "model_module": "@jupyter-widgets/controls",
      "model_module_version": "2.0.0",
      "model_name": "HBoxModel",
      "state": {
       "children": [
        "IPY_MODEL_e440e77ab384475b8e98ce989df6948b",
        "IPY_MODEL_743afc96de4a47b69bbc444ffe0ec724",
        "IPY_MODEL_201e63108b1b45098102a5e1356bf22b"
       ],
       "layout": "IPY_MODEL_7091ff2412434181a927b6ffda42f114"
      }
     },
     "e440e77ab384475b8e98ce989df6948b": {
      "model_module": "@jupyter-widgets/controls",
      "model_module_version": "2.0.0",
      "model_name": "HTMLModel",
      "state": {
       "layout": "IPY_MODEL_42e822593e0d44a4b3eb1fe672166e2c",
       "style": "IPY_MODEL_b16e27146ae84937813e1d96a2c31cf7",
       "value": "100%"
      }
     },
     "edbdf1568196404a8d7ace8fc2feb8bc": {
      "model_module": "@jupyter-widgets/controls",
      "model_module_version": "2.0.0",
      "model_name": "ProgressStyleModel",
      "state": {
       "description_width": ""
      }
     }
    },
    "version_major": 2,
    "version_minor": 0
   }
  }
 },
 "nbformat": 4,
 "nbformat_minor": 5
}
